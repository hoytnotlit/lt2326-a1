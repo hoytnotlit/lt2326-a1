{
 "cells": [
  {
   "cell_type": "code",
   "execution_count": 4,
   "id": "b7c91b85",
   "metadata": {},
   "outputs": [],
   "source": [
    "import os\n",
    "import json\n",
    "\n",
    "# open folder, loop through files, check if file in training set\n",
    "with open(\"/scratch/lt2326-h21/a1/info.json\", \"r\") as json_file:\n",
    "    meta = json.load(json_file)\n",
    "    train_file_names = [obj['file_name'] for obj in meta['train']]\n",
    "    files_to_keep = [img_path for img_path in os.listdir(\"/scratch/lt2326-h21/a1/images\") if img_path in train_file_names]"
   ]
  },
  {
   "cell_type": "code",
   "execution_count": 19,
   "id": "bb1612c2",
   "metadata": {},
   "outputs": [
    {
     "data": {
      "text/plain": [
       "845"
      ]
     },
     "execution_count": 19,
     "metadata": {},
     "output_type": "execute_result"
    }
   ],
   "source": [
    "len(files_to_keep)"
   ]
  },
  {
   "cell_type": "code",
   "execution_count": 24,
   "id": "2bf2fc77",
   "metadata": {},
   "outputs": [],
   "source": [
    "# Find the corresponding bounding box information in train.jsonl for each image.\n",
    "images_with_polygons = {}\n",
    "\n",
    "with open(\"/scratch/lt2326-h21/a1/train.jsonl\", \"r\") as jsonl_file:\n",
    "    for line in jsonl_file:\n",
    "        line_as_dict = json.loads(line)\n",
    "        if line_as_dict['file_name'] in files_to_keep:\n",
    "            for sentence in line_as_dict['annotations']:\n",
    "                for instance in sentence:\n",
    "                    if instance['is_chinese']:\n",
    "                        if line_as_dict['image_id'] not in images_with_polygons:\n",
    "                            images_with_polygons[line_as_dict['image_id']] = []\n",
    "                        images_with_polygons[line_as_dict['image_id']].append(instance['polygon'])"
   ]
  },
  {
   "cell_type": "code",
   "execution_count": 28,
   "id": "816bcea1",
   "metadata": {},
   "outputs": [
    {
     "data": {
      "text/plain": [
       "845"
      ]
     },
     "execution_count": 28,
     "metadata": {},
     "output_type": "execute_result"
    }
   ],
   "source": [
    "len(images_with_polygons)"
   ]
  },
  {
   "cell_type": "code",
   "execution_count": 30,
   "id": "fd1b570b",
   "metadata": {},
   "outputs": [],
   "source": [
    "# Divide up the official training data files into your own training, validation, \n",
    "# and test datasets depending on your own preferences.\n",
    "#from sklearn.model_selection import train_test_split\n",
    "#training_data, temp_data = train_test_split(images_with_polygons, test_size=0.3)\n",
    "#len(temp_data)\n",
    "#validation_data, testing_data = images_with_polygons\n"
   ]
  },
  {
   "cell_type": "code",
   "execution_count": null,
   "id": "03805401",
   "metadata": {},
   "outputs": [],
   "source": []
  }
 ],
 "metadata": {
  "kernelspec": {
   "display_name": "Python 3 (ipykernel)",
   "language": "python",
   "name": "python3"
  },
  "language_info": {
   "codemirror_mode": {
    "name": "ipython",
    "version": 3
   },
   "file_extension": ".py",
   "mimetype": "text/x-python",
   "name": "python",
   "nbconvert_exporter": "python",
   "pygments_lexer": "ipython3",
   "version": "3.9.6"
  }
 },
 "nbformat": 4,
 "nbformat_minor": 5
}
