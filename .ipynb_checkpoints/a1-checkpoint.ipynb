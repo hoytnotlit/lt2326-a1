{
 "cells": [
  {
   "cell_type": "code",
   "execution_count": 24,
   "id": "b7c91b85",
   "metadata": {},
   "outputs": [
    {
     "name": "stderr",
     "output_type": "stream",
     "text": [
      "IOPub data rate exceeded.\n",
      "The notebook server will temporarily stop sending output\n",
      "to the client in order to avoid crashing it.\n",
      "To change this limit, set the config variable\n",
      "`--NotebookApp.iopub_data_rate_limit`.\n",
      "\n",
      "Current values:\n",
      "NotebookApp.iopub_data_rate_limit=1000000.0 (bytes/sec)\n",
      "NotebookApp.rate_limit_window=3.0 (secs)\n",
      "\n"
     ]
    }
   ],
   "source": [
    "import os\n",
    "import json\n",
    "\n",
    "# open folder, loop through files, check if file in training set\n",
    "with open(\"/scratch/lt2326-h21/a1/info.json\", \"r\") as json_file:\n",
    "    meta = json.load(json_file)\n",
    "    train_file_names = [obj['file_name'] for obj in meta['train']]\n",
    "    files_to_keep = [img_path for img_path in os.listdir(\"/scratch/lt2326-h21/a1/images\") if img_path in train_file_names]\n",
    "    \n",
    "# Divide up the official training data files into your own training, validation, \n",
    "# and test datasets depending on your own preferences. \n",
    "\n",
    "# Find the corresponding bounding box information in train.jsonl for each image. \n"
   ]
  },
  {
   "cell_type": "code",
   "execution_count": null,
   "id": "2bf2fc77",
   "metadata": {},
   "outputs": [
    {
     "name": "stderr",
     "output_type": "stream",
     "text": [
      "IOPub data rate exceeded.\n",
      "The notebook server will temporarily stop sending output\n",
      "to the client in order to avoid crashing it.\n",
      "To change this limit, set the config variable\n",
      "`--NotebookApp.iopub_data_rate_limit`.\n",
      "\n",
      "Current values:\n",
      "NotebookApp.iopub_data_rate_limit=1000000.0 (bytes/sec)\n",
      "NotebookApp.rate_limit_window=3.0 (secs)\n",
      "\n"
     ]
    }
   ],
   "source": [
    "with open(\"/scratch/lt2326-h21/a1/train.jsonl\") as jsonl_file:\n",
    "    asd = meta = list(jsonl_file)\n",
    "    print(asd)"
   ]
  },
  {
   "cell_type": "code",
   "execution_count": null,
   "id": "816bcea1",
   "metadata": {},
   "outputs": [],
   "source": []
  }
 ],
 "metadata": {
  "kernelspec": {
   "display_name": "Python 3 (ipykernel)",
   "language": "python",
   "name": "python3"
  },
  "language_info": {
   "codemirror_mode": {
    "name": "ipython",
    "version": 3
   },
   "file_extension": ".py",
   "mimetype": "text/x-python",
   "name": "python",
   "nbconvert_exporter": "python",
   "pygments_lexer": "ipython3",
   "version": "3.9.6"
  }
 },
 "nbformat": 4,
 "nbformat_minor": 5
}
